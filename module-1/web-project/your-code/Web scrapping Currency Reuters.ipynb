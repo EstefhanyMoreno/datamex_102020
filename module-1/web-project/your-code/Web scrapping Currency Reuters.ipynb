{
 "cells": [
  {
   "cell_type": "code",
   "execution_count": 105,
   "metadata": {},
   "outputs": [],
   "source": [
    "import re\n",
    "import requests\n",
    "from bs4 import BeautifulSoup\n",
    "import time\n",
    "import pandas as pd\n",
    "import numpy as np\n",
    "from IPython.display import HTML, display_html, display"
   ]
  },
  {
   "cell_type": "code",
   "execution_count": 18,
   "metadata": {},
   "outputs": [
    {
     "data": {
      "text/plain": [
       "<Response [200]>"
      ]
     },
     "execution_count": 18,
     "metadata": {},
     "output_type": "execute_result"
    }
   ],
   "source": [
    "url = 'https://www.reuters.com/markets/currencies'\n",
    "req = requests.get(url)\n",
    "req"
   ]
  },
  {
   "cell_type": "code",
   "execution_count": 19,
   "metadata": {},
   "outputs": [
    {
     "data": {
      "text/plain": [
       "b'<!DOCTYPE html><html lang=\"en\"><head><meta name=\"viewport\" content=\"width=device-width\"/><meta charSet=\"utf-8\"/><meta http-equiv=\"X-UA-Compatible\" content=\"IE=edge\"/><meta http-equiv=\"x-dns-prefetch-control\" content=\"on\"/><meta name=\"robots\" content=\"index, follow\"/><meta name=\"twitter:site\" content'"
      ]
     },
     "execution_count": 19,
     "metadata": {},
     "output_type": "execute_result"
    }
   ],
   "source": [
    "req.content[:300]"
   ]
  },
  {
   "cell_type": "code",
   "execution_count": 20,
   "metadata": {},
   "outputs": [],
   "source": [
    "sopa = BeautifulSoup(req.content, \"html.parser\")"
   ]
  },
  {
   "cell_type": "code",
   "execution_count": 74,
   "metadata": {},
   "outputs": [],
   "source": [
    "currency_name=sopa.find_all('td', {'class':'MarketsTable-name-1U4vs'})"
   ]
  },
  {
   "cell_type": "code",
   "execution_count": 73,
   "metadata": {},
   "outputs": [],
   "source": [
    "currency_last= sopa.find_all('td', {'class':'MarketsTable-last-1ORGC'})"
   ]
  },
  {
   "cell_type": "code",
   "execution_count": 75,
   "metadata": {},
   "outputs": [],
   "source": [
    "currency_netchange= sopa.find_all('td', {'class': 'MarketsTable-net_change-1ZX13'})"
   ]
  },
  {
   "cell_type": "code",
   "execution_count": 76,
   "metadata": {},
   "outputs": [],
   "source": [
    "currency_percentchange= sopa.find_all('td', {'class': 'MarketsTable-percent_change-2HcuU'})"
   ]
  },
  {
   "cell_type": "code",
   "execution_count": 102,
   "metadata": {},
   "outputs": [],
   "source": [
    "currency_time= sopa.find_all('td', {'class': 'MarketsTable-time-2sNiT'})"
   ]
  },
  {
   "cell_type": "code",
   "execution_count": 95,
   "metadata": {},
   "outputs": [],
   "source": [
    "currency_name_text=[i.text for i in currency_name]\n",
    "currency_last_text=[i.text for i in currency_last]\n",
    "currency_netchange_text=[i.text for i in currency_netchange]\n",
    "currency_percentchange_text=[i.text for i in currency_percentchange]\n",
    "currency_time_text=[i.text for i in currency_time]"
   ]
  },
  {
   "cell_type": "code",
   "execution_count": 86,
   "metadata": {},
   "outputs": [],
   "source": [
    "df= pd.DataFrame({'Currency': currency_name_text, 'Last': currency_last_text, \n",
    "                 'Change': currency_netchange_text, 'Change%':currency_percentchange_text,\n",
    "                 'Time': currency_time_text} )"
   ]
  },
  {
   "cell_type": "code",
   "execution_count": 106,
   "metadata": {},
   "outputs": [
    {
     "data": {
      "text/html": [
       "<h2>Currency pairs USD</h2>"
      ],
      "text/plain": [
       "<IPython.core.display.HTML object>"
      ]
     },
     "metadata": {},
     "output_type": "display_data"
    },
    {
     "data": {
      "text/html": [
       "<div>\n",
       "<style scoped>\n",
       "    .dataframe tbody tr th:only-of-type {\n",
       "        vertical-align: middle;\n",
       "    }\n",
       "\n",
       "    .dataframe tbody tr th {\n",
       "        vertical-align: top;\n",
       "    }\n",
       "\n",
       "    .dataframe thead th {\n",
       "        text-align: right;\n",
       "    }\n",
       "</style>\n",
       "<table border=\"1\" class=\"dataframe\">\n",
       "  <thead>\n",
       "    <tr style=\"text-align: right;\">\n",
       "      <th></th>\n",
       "      <th>Currency</th>\n",
       "      <th>Last</th>\n",
       "      <th>Change</th>\n",
       "      <th>Change%</th>\n",
       "      <th>Time</th>\n",
       "    </tr>\n",
       "  </thead>\n",
       "  <tbody>\n",
       "    <tr>\n",
       "      <td>0</td>\n",
       "      <td>EUR</td>\n",
       "      <td>0.8582</td>\n",
       "      <td>0.0003</td>\n",
       "      <td>0.0350%</td>\n",
       "      <td></td>\n",
       "    </tr>\n",
       "    <tr>\n",
       "      <td>1</td>\n",
       "      <td>JPY</td>\n",
       "      <td>104.5600</td>\n",
       "      <td>-0.0800</td>\n",
       "      <td>-0.0765%</td>\n",
       "      <td></td>\n",
       "    </tr>\n",
       "    <tr>\n",
       "      <td>2</td>\n",
       "      <td>GBP</td>\n",
       "      <td>0.7735</td>\n",
       "      <td>0.0012</td>\n",
       "      <td>0.1554%</td>\n",
       "      <td></td>\n",
       "    </tr>\n",
       "    <tr>\n",
       "      <td>3</td>\n",
       "      <td>CHF</td>\n",
       "      <td>0.9149</td>\n",
       "      <td>-0.0018</td>\n",
       "      <td>-0.1964%</td>\n",
       "      <td></td>\n",
       "    </tr>\n",
       "    <tr>\n",
       "      <td>4</td>\n",
       "      <td>AUD</td>\n",
       "      <td>1.4211</td>\n",
       "      <td>-0.0006</td>\n",
       "      <td>-0.0422%</td>\n",
       "      <td></td>\n",
       "    </tr>\n",
       "    <tr>\n",
       "      <td>5</td>\n",
       "      <td>NZD</td>\n",
       "      <td>1.5081</td>\n",
       "      <td>0.0073</td>\n",
       "      <td>0.4864%</td>\n",
       "      <td></td>\n",
       "    </tr>\n",
       "    <tr>\n",
       "      <td>6</td>\n",
       "      <td>CAD</td>\n",
       "      <td>1.3311</td>\n",
       "      <td>-0.0006</td>\n",
       "      <td>-0.0451%</td>\n",
       "      <td></td>\n",
       "    </tr>\n",
       "    <tr>\n",
       "      <td>7</td>\n",
       "      <td>DKK</td>\n",
       "      <td>6.3856</td>\n",
       "      <td>-0.0057</td>\n",
       "      <td>-0.0892%</td>\n",
       "      <td></td>\n",
       "    </tr>\n",
       "    <tr>\n",
       "      <td>8</td>\n",
       "      <td>NOK</td>\n",
       "      <td>9.5211</td>\n",
       "      <td>-0.0136</td>\n",
       "      <td>-0.1426%</td>\n",
       "      <td></td>\n",
       "    </tr>\n",
       "    <tr>\n",
       "      <td>9</td>\n",
       "      <td>CNY</td>\n",
       "      <td>6.6919</td>\n",
       "      <td>0.0000</td>\n",
       "      <td>0.0000%</td>\n",
       "      <td></td>\n",
       "    </tr>\n",
       "    <tr>\n",
       "      <td>10</td>\n",
       "      <td>SEK</td>\n",
       "      <td>8.8979</td>\n",
       "      <td>0.0156</td>\n",
       "      <td>0.1756%</td>\n",
       "      <td></td>\n",
       "    </tr>\n",
       "    <tr>\n",
       "      <td>11</td>\n",
       "      <td>SGD</td>\n",
       "      <td>1.3660</td>\n",
       "      <td>0.0000</td>\n",
       "      <td>0.0000%</td>\n",
       "      <td></td>\n",
       "    </tr>\n",
       "    <tr>\n",
       "      <td>12</td>\n",
       "      <td>MXN</td>\n",
       "      <td>21.1704</td>\n",
       "      <td>-0.0006</td>\n",
       "      <td>-0.0028%</td>\n",
       "      <td></td>\n",
       "    </tr>\n",
       "    <tr>\n",
       "      <td>13</td>\n",
       "      <td>RUB</td>\n",
       "      <td>79.3540</td>\n",
       "      <td>0.0000</td>\n",
       "      <td>0.0000%</td>\n",
       "      <td></td>\n",
       "    </tr>\n",
       "  </tbody>\n",
       "</table>\n",
       "</div>"
      ]
     },
     "metadata": {},
     "output_type": "display_data"
    }
   ],
   "source": [
    "display(HTML('<h2>Currency pairs USD</h2>'))\n",
    "display_html(df)"
   ]
  }
 ],
 "metadata": {
  "kernelspec": {
   "display_name": "Python 3",
   "language": "python",
   "name": "python3"
  },
  "language_info": {
   "codemirror_mode": {
    "name": "ipython",
    "version": 3
   },
   "file_extension": ".py",
   "mimetype": "text/x-python",
   "name": "python",
   "nbconvert_exporter": "python",
   "pygments_lexer": "ipython3",
   "version": "3.7.4"
  }
 },
 "nbformat": 4,
 "nbformat_minor": 2
}
