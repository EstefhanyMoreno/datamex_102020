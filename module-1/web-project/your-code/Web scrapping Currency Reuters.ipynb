{
 "cells": [
  {
   "cell_type": "code",
   "execution_count": 19,
   "metadata": {},
   "outputs": [],
   "source": [
    "import re\n",
    "import requests\n",
    "from bs4 import BeautifulSoup\n",
    "import time\n",
    "import pandas as pd\n",
    "import numpy as np"
   ]
  },
  {
   "cell_type": "code",
   "execution_count": 2,
   "metadata": {},
   "outputs": [],
   "source": [
    "h=time.strftime(\"%H:%M:%S\")\n",
    "f=time.strftime(\"%d/%m/%y\")"
   ]
  },
  {
   "cell_type": "code",
   "execution_count": 3,
   "metadata": {},
   "outputs": [
    {
     "data": {
      "text/plain": [
       "'02/11/20, 17:29:17'"
      ]
     },
     "execution_count": 3,
     "metadata": {},
     "output_type": "execute_result"
    }
   ],
   "source": [
    "f'{f}, {h}'"
   ]
  },
  {
   "cell_type": "code",
   "execution_count": 4,
   "metadata": {},
   "outputs": [
    {
     "data": {
      "text/plain": [
       "<Response [200]>"
      ]
     },
     "execution_count": 4,
     "metadata": {},
     "output_type": "execute_result"
    }
   ],
   "source": [
    "url = 'https://www.reuters.com/markets/currencies'\n",
    "req = requests.get(url)\n",
    "req"
   ]
  },
  {
   "cell_type": "code",
   "execution_count": 5,
   "metadata": {},
   "outputs": [
    {
     "data": {
      "text/plain": [
       "b'<!DOCTYPE html><html lang=\"en\"><head><meta name=\"viewport\" content=\"width=device-width\"/><meta charSet=\"utf-8\"/><meta http-equiv=\"X-UA-Compatible\" content=\"IE=edge\"/><meta http-equiv=\"x-dns-prefetch-control\" content=\"on\"/><meta name=\"robots\" content=\"index, follow\"/><meta name=\"twitter:site\" content'"
      ]
     },
     "execution_count": 5,
     "metadata": {},
     "output_type": "execute_result"
    }
   ],
   "source": [
    "req.content[:300]"
   ]
  },
  {
   "cell_type": "code",
   "execution_count": 6,
   "metadata": {},
   "outputs": [],
   "source": [
    "sopa = BeautifulSoup(req.content, \"html.parser\")"
   ]
  },
  {
   "cell_type": "code",
   "execution_count": 7,
   "metadata": {},
   "outputs": [],
   "source": [
    "currency_name=sopa.find_all('td', {'class':'MarketsTable-name-1U4vs'})"
   ]
  },
  {
   "cell_type": "code",
   "execution_count": 8,
   "metadata": {},
   "outputs": [],
   "source": [
    "currency_last= sopa.find_all('td', {'class':'MarketsTable-last-1ORGC'})"
   ]
  },
  {
   "cell_type": "code",
   "execution_count": 9,
   "metadata": {},
   "outputs": [],
   "source": [
    "currency_netchange= sopa.find_all('td', {'class': 'MarketsTable-net_change-1ZX13'})"
   ]
  },
  {
   "cell_type": "code",
   "execution_count": 10,
   "metadata": {},
   "outputs": [],
   "source": [
    "currency_percentchange= sopa.find_all('td', {'class': 'MarketsTable-percent_change-2HcuU'})"
   ]
  },
  {
   "cell_type": "code",
   "execution_count": 11,
   "metadata": {},
   "outputs": [],
   "source": [
    "currency_name_text=[i.text for i in currency_name]\n",
    "currency_last_text=[i.text for i in currency_last]\n",
    "currency_netchange_text=[i.text for i in currency_netchange]\n",
    "currency_percentchange_text=[i.text for i in currency_percentchange]"
   ]
  },
  {
   "cell_type": "code",
   "execution_count": 12,
   "metadata": {},
   "outputs": [],
   "source": [
    "df= pd.DataFrame({'Currency': currency_name_text, 'Last': currency_last_text, \n",
    "                 'Change': currency_netchange_text, 'Change%':currency_percentchange_text} )"
   ]
  },
  {
   "cell_type": "code",
   "execution_count": 18,
   "metadata": {},
   "outputs": [
    {
     "name": "stdout",
     "output_type": "stream",
     "text": [
      "CURRENCY PAIRS USD\n",
      "02/11/20, 17:29:17\n"
     ]
    },
    {
     "data": {
      "text/html": [
       "<div>\n",
       "<style scoped>\n",
       "    .dataframe tbody tr th:only-of-type {\n",
       "        vertical-align: middle;\n",
       "    }\n",
       "\n",
       "    .dataframe tbody tr th {\n",
       "        vertical-align: top;\n",
       "    }\n",
       "\n",
       "    .dataframe thead th {\n",
       "        text-align: right;\n",
       "    }\n",
       "</style>\n",
       "<table border=\"1\" class=\"dataframe\">\n",
       "  <thead>\n",
       "    <tr style=\"text-align: right;\">\n",
       "      <th></th>\n",
       "      <th>Currency</th>\n",
       "      <th>Last</th>\n",
       "      <th>Change</th>\n",
       "      <th>Change%</th>\n",
       "    </tr>\n",
       "  </thead>\n",
       "  <tbody>\n",
       "    <tr>\n",
       "      <td>0</td>\n",
       "      <td>EUR</td>\n",
       "      <td>0.8590</td>\n",
       "      <td>0.0001</td>\n",
       "      <td>0.0116%</td>\n",
       "    </tr>\n",
       "    <tr>\n",
       "      <td>1</td>\n",
       "      <td>JPY</td>\n",
       "      <td>104.7300</td>\n",
       "      <td>0.0200</td>\n",
       "      <td>0.0191%</td>\n",
       "    </tr>\n",
       "    <tr>\n",
       "      <td>2</td>\n",
       "      <td>GBP</td>\n",
       "      <td>0.7742</td>\n",
       "      <td>0.0003</td>\n",
       "      <td>0.0388%</td>\n",
       "    </tr>\n",
       "    <tr>\n",
       "      <td>3</td>\n",
       "      <td>CHF</td>\n",
       "      <td>0.9187</td>\n",
       "      <td>0.0000</td>\n",
       "      <td>0.0000%</td>\n",
       "    </tr>\n",
       "    <tr>\n",
       "      <td>4</td>\n",
       "      <td>AUD</td>\n",
       "      <td>1.4182</td>\n",
       "      <td>0.0010</td>\n",
       "      <td>0.0706%</td>\n",
       "    </tr>\n",
       "    <tr>\n",
       "      <td>5</td>\n",
       "      <td>NZD</td>\n",
       "      <td>1.5083</td>\n",
       "      <td>0.0011</td>\n",
       "      <td>0.0730%</td>\n",
       "    </tr>\n",
       "    <tr>\n",
       "      <td>6</td>\n",
       "      <td>CAD</td>\n",
       "      <td>1.3225</td>\n",
       "      <td>0.0010</td>\n",
       "      <td>0.0757%</td>\n",
       "    </tr>\n",
       "    <tr>\n",
       "      <td>7</td>\n",
       "      <td>DKK</td>\n",
       "      <td>6.3964</td>\n",
       "      <td>-0.0007</td>\n",
       "      <td>-0.0109%</td>\n",
       "    </tr>\n",
       "    <tr>\n",
       "      <td>8</td>\n",
       "      <td>NOK</td>\n",
       "      <td>9.5371</td>\n",
       "      <td>-0.0198</td>\n",
       "      <td>-0.2072%</td>\n",
       "    </tr>\n",
       "    <tr>\n",
       "      <td>9</td>\n",
       "      <td>CNY</td>\n",
       "      <td>6.6899</td>\n",
       "      <td>0.0000</td>\n",
       "      <td>0.0000%</td>\n",
       "    </tr>\n",
       "    <tr>\n",
       "      <td>10</td>\n",
       "      <td>SEK</td>\n",
       "      <td>8.9019</td>\n",
       "      <td>-0.0011</td>\n",
       "      <td>-0.0124%</td>\n",
       "    </tr>\n",
       "    <tr>\n",
       "      <td>11</td>\n",
       "      <td>SGD</td>\n",
       "      <td>1.3651</td>\n",
       "      <td>0.0006</td>\n",
       "      <td>0.0440%</td>\n",
       "    </tr>\n",
       "    <tr>\n",
       "      <td>12</td>\n",
       "      <td>MXN</td>\n",
       "      <td>21.3720</td>\n",
       "      <td>-0.0023</td>\n",
       "      <td>-0.0108%</td>\n",
       "    </tr>\n",
       "    <tr>\n",
       "      <td>13</td>\n",
       "      <td>RUB</td>\n",
       "      <td>80.1570</td>\n",
       "      <td>-0.1953</td>\n",
       "      <td>-0.2431%</td>\n",
       "    </tr>\n",
       "  </tbody>\n",
       "</table>\n",
       "</div>"
      ],
      "text/plain": [
       "   Currency      Last   Change   Change%\n",
       "0       EUR    0.8590   0.0001   0.0116%\n",
       "1       JPY  104.7300   0.0200   0.0191%\n",
       "2       GBP    0.7742   0.0003   0.0388%\n",
       "3       CHF    0.9187   0.0000   0.0000%\n",
       "4       AUD    1.4182   0.0010   0.0706%\n",
       "5       NZD    1.5083   0.0011   0.0730%\n",
       "6       CAD    1.3225   0.0010   0.0757%\n",
       "7       DKK    6.3964  -0.0007  -0.0109%\n",
       "8       NOK    9.5371  -0.0198  -0.2072%\n",
       "9       CNY    6.6899   0.0000   0.0000%\n",
       "10      SEK    8.9019  -0.0011  -0.0124%\n",
       "11      SGD    1.3651   0.0006   0.0440%\n",
       "12      MXN   21.3720  -0.0023  -0.0108%\n",
       "13      RUB   80.1570  -0.1953  -0.2431%"
      ]
     },
     "execution_count": 18,
     "metadata": {},
     "output_type": "execute_result"
    }
   ],
   "source": [
    "print('CURRENCY PAIRS USD')\n",
    "print(f'{f}, {h}')\n",
    "df"
   ]
  }
 ],
 "metadata": {
  "kernelspec": {
   "display_name": "Python 3",
   "language": "python",
   "name": "python3"
  },
  "language_info": {
   "codemirror_mode": {
    "name": "ipython",
    "version": 3
   },
   "file_extension": ".py",
   "mimetype": "text/x-python",
   "name": "python",
   "nbconvert_exporter": "python",
   "pygments_lexer": "ipython3",
   "version": "3.7.4"
  }
 },
 "nbformat": 4,
 "nbformat_minor": 2
}
